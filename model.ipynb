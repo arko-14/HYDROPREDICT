import pandas as pd
from sklearn.model_selection import train_test_split
from sklearn.ensemble import RandomForestRegressor
from sklearn.metrics import mean_absolute_error, mean_squared_error



env_data = env_data = pd.read_csv('/content/drive/MyDrive/dataset_train1.csv', encoding='latin-1')  # Try 'latin-1' or 'ISO-8859-1'  # contains 'precipitation', 'rainfall', 'temperature', 'soil_temperature'
groundwater_data = pd.read_csv('/content/drive/MyDrive/groundwater_train2.csv',encoding='latin-1')  # contains 'groundwater_level'

# Merge datasets based on a common key, like date and location, if they are not pre-aligned by row
# Replace 'date' and 'location' with your actual column names used for merging
data = pd.merge(env_data, groundwater_data, on=['Year', 'Month','Location'])

# Define the feature set (X) and target variable (y)
X = data[['precipitation(mm)', 'rain(mm)', 'temperature_80m (°C)', 'soil_temp(°C)']]
y = data['Water Level']

# Split data into training and testing sets
X_train, X_test, y_train, y_test = train_test_split(X, y, test_size=0.2, random_state=42)

# Initialize and train the Random Forest model
rf_regressor = RandomForestRegressor(n_estimators=100, random_state=42)
rf_regressor.fit(X_train, y_train)

# Make predictions
y_pred = rf_regressor.predict(X_test)

# Evaluate the model
mae = mean_absolute_error(y_test, y_pred)
mse = mean_squared_error(y_test, y_pred)
rmse = mse ** 0.5

print("Mean Absolute Error:", mae)
print("Mean Squared Error:", mse)
print("Root Mean Squared Error:", rmse)
